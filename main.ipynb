{
 "cells": [
  {
   "cell_type": "markdown",
   "metadata": {},
   "source": [
    "# IF702 Redes Neurais\n",
    "Esse notebook contém um script base para o projeto da disciplina IF702 Redes Neurais."
   ]
  },
  {
   "cell_type": "code",
   "execution_count": null,
   "metadata": {},
   "outputs": [],
   "source": [
    "import numpy as np\n",
    "import pandas as pd\n",
    "from keras.models import Sequential\n",
    "from keras.layers import Dense\n",
    "from keras.callbacks import EarlyStopping\n",
    "from sklearn.preprocessing import StandardScaler\n",
    "from sklearn.model_selection import GridSearchCV\n",
    "from sklearn.model_selection import train_test_split\n",
    "from sklearn.metrics import accuracy_score\n",
    "from sklearn.metrics import recall_score\n",
    "from sklearn.metrics import precision_score\n",
    "from sklearn.metrics import f1_score\n",
    "from sklearn.metrics import roc_auc_score"
   ]
  },
  {
   "cell_type": "markdown",
   "metadata": {},
   "source": [
    "A leitura do data set é feita utilizando `pandas`. O presente exemplo importa a base de dados `mammography`, assim, caso você esteja trabalhando com outro data set modifique esta linha."
   ]
  },
  {
   "cell_type": "code",
   "execution_count": null,
   "metadata": {
    "collapsed": true
   },
   "outputs": [],
   "source": [
    "data_set = pd.read_csv('data/mammography.csv')"
   ]
  },
  {
   "cell_type": "markdown",
   "metadata": {},
   "source": [
    "Separando o data set em atributos dependentes (X = features) e independentes (y = classe). No caso do `mammography` a classe majoritária está codificada como -1 e a classe minoritária está codificada como 1. Para treinar nossa rede neural precisamos que os valores de classe sejam 0 e 1, assim modificamos a codificação da majoritária para 0."
   ]
  },
  {
   "cell_type": "code",
   "execution_count": null,
   "metadata": {
    "collapsed": true
   },
   "outputs": [],
   "source": [
    "X = data_set.iloc[:, :-1].values\n",
    "y = data_set.iloc[:, -1].values\n",
    "y = np.where(y == -1, 0, 1)"
   ]
  },
  {
   "cell_type": "markdown",
   "metadata": {},
   "source": [
    "Aqui definimos a arquitetura de nossa rede neural e o processo de treinamento e teste da mesma.\n",
    "\n",
    "É importante lembrar de normalizar os dados. A classe `StandardScaler` centraliza as variáveis e transforma as features para terem variância unitária. Você pode testar outras opções como o `MinMaxScaler`.\n",
    "\n",
    "Todas as alternativas estão disponíveis em:\n",
    "http://scikit-learn.org/stable/modules/classes.html#module-sklearn.preprocessing."
   ]
  },
  {
   "cell_type": "code",
   "execution_count": null,
   "metadata": {},
   "outputs": [],
   "source": [
    "accuracies = []\n",
    "recalls = []\n",
    "precisions = []\n",
    "f1s = []\n",
    "aucs = []\n",
    "\n",
    "for _ in range(5):\n",
    "    ## Treino: 60%, Validação: 20%, Teste: 20%\n",
    "    X_train, X_test, y_train, y_test = train_test_split(X, y, test_size=0.2)\n",
    "    X_train, X_val, y_train, y_val = train_test_split(X_train, y_train, test_size=0.25)\n",
    "    \n",
    "    ## Aplicar a funcao de sampling ao conjunto de treinamento\n",
    "    \n",
    "    ## Normalizar as features\n",
    "    scaler = StandardScaler()\n",
    "    X_train = scaler.fit_transform(X_train)\n",
    "    X_val = scaler.transform(X_val)\n",
    "    X_test = scaler.transform(X_test)\n",
    "    \n",
    "    ## Treinar a rede\n",
    "    # Cria o esboço da rede.\n",
    "    classifier = Sequential()\n",
    "    # Adiciona a primeira camada escondida contendo 16 neurônios e função de ativação tangente \n",
    "    # hiperbólica. Por ser a primeira camada adicionada à rede, precisamos especificar a dimensão \n",
    "    # de entrada (número de features do data set), no caso do mammography são 6.\n",
    "    classifier.add(Dense(16, activation='tanh', input_dim=6))\n",
    "    # Adiciona a camada de saída. Como nosso problema é binário, só precisamos de 1 neurônio \n",
    "    # e função de ativação sigmoidal. A partir da segunda camada adicionada, keras já consegue \n",
    "    # inferir o número de neurônios de entrada (nesse caso 16) e nós não precisamos mais especificar.\n",
    "    classifier.add(Dense(1, activation='sigmoid'))\n",
    "    # Compila o modelo especificando o otimizador, a função de custo, e opcionalmente métricas \n",
    "    # para serem observadas durante o treinamento.\n",
    "    classifier.compile(optimizer='adam', loss='binary_crossentropy', metrics=['accuracy'])\n",
    "    # Treina a rede, especificando o tamanho do batch, o número de máximo de épocas, se deseja \n",
    "    # parar prematuramente caso o erro de validação não decresça, e o conjunto de validação.\n",
    "    classifier.fit(X_train, y_train, batch_size=32, epochs=10000, \n",
    "                   callbacks=[EarlyStopping()], validation_data=(X_val, y_val))\n",
    "    \n",
    "    ## Fazer predições no conjunto de teste\n",
    "    y_pred = classifier.predict(X_test)\n",
    "    y_pred_class = classifier.predict_classes(X_test)\n",
    "    ## Computar métricas de desempenho\n",
    "    accuracies.append(accuracy_score(y_test, y_pred_class))\n",
    "    recalls.append(recall_score(y_test, y_pred_class))\n",
    "    precisions.append(precision_score(y_test, y_pred_class))\n",
    "    f1s.append(f1_score(y_test, y_pred_class))\n",
    "    aucs.append(roc_auc_score(y_test, y_pred))\n",
    "\n",
    "accuracies_mean, accuracies_std = np.mean(accuracies), np.std(accuracies)\n",
    "recalls_mean, recalls_std = np.mean(recalls), np.std(recalls)\n",
    "precisions_mean, precisions_std = np.mean(precisions), np.std(precisions)\n",
    "f1s_mean, f1s_std = np.mean(f1s), np.std(f1s)\n",
    "aucs_mean, aucs_std = np.mean(aucs), np.std(aucs)"
   ]
  }
 ],
 "metadata": {
  "kernelspec": {
   "display_name": "Python [conda root]",
   "language": "python",
   "name": "conda-root-py"
  },
  "language_info": {
   "codemirror_mode": {
    "name": "ipython",
    "version": 3
   },
   "file_extension": ".py",
   "mimetype": "text/x-python",
   "name": "python",
   "nbconvert_exporter": "python",
   "pygments_lexer": "ipython3",
   "version": "3.5.3"
  }
 },
 "nbformat": 4,
 "nbformat_minor": 2
}
